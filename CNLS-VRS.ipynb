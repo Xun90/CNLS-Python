{
 "cells": [
  {
   "cell_type": "markdown",
   "metadata": {},
   "source": [
    "#  Tutorial: CNLS_VRS model"
   ]
  },
  {
   "cell_type": "markdown",
   "metadata": {},
   "source": [
    "- Author   : Sheng Dai (sheng.dai@aalto.fi)\n",
    "- Objective: Estimates a variable returns to scale (VRS) production function model and overall economic efficiency\n",
    "- Data     : data genrate pprocess (DGP) \n",
    "- Date     : April 16, 2020"
   ]
  },
  {
   "cell_type": "code",
   "execution_count": null,
   "metadata": {},
   "outputs": [],
   "source": [
    "import CNLS_VRS\n",
    "import numpy as np\n",
    "import pandas as pd\n",
    "from cvxopt import matrix"
   ]
  },
  {
   "cell_type": "code",
   "execution_count": null,
   "metadata": {},
   "outputs": [],
   "source": [
    "## Generate data\n",
    "## Number of DMUs\n",
    "m = 50     \n",
    "\n",
    "## set seed\n",
    "np.random.seed(1)\n",
    "\n",
    "## x1~U[1,10]\n",
    "x1 = np.random.uniform(1, 10, m)\n",
    "\n",
    "## composite error term\n",
    "#  v ~  N(0, 0.708^2)\n",
    "#  u ~ |N(0, 1.174^2)|\n",
    "y = 3 + x1**0.5+np.log(x1)+np.random.normal(0,0.708,m)- abs(np.random.normal(0,1.174,m))\n",
    "\n",
    "x = np.asmatrix(x1).T"
   ]
  },
  {
   "cell_type": "code",
   "execution_count": null,
   "metadata": {},
   "outputs": [],
   "source": [
    "## calculate the VRS model; \n",
    "##           call function cnls_vrs()\n",
    "res_cnls = CNLS_VRS.cnls_vrs(x, y, 'MOSEK')\n",
    "\n",
    "## results: yhat and beta\n",
    "yhat  = res_cnls[:m]\n",
    "beta  = res_cnls[m:2*m]"
   ]
  },
  {
   "cell_type": "code",
   "execution_count": null,
   "metadata": {},
   "outputs": [],
   "source": [
    "## calculate the residuals (eps)\n",
    "eps   = matrix(0.0, (m,1))\n",
    "for i in range(m):\n",
    "    eps[i]   = y[i] - yhat[i]  "
   ]
  },
  {
   "cell_type": "code",
   "execution_count": null,
   "metadata": {},
   "outputs": [],
   "source": [
    "## calculate the constant term (alpha)\n",
    "alpha = matrix(0.0, (m,1))\n",
    "for i in range(m):\n",
    " alpha[i] = y[i] - eps[i] - beta[i] * x1[i]"
   ]
  },
  {
   "cell_type": "code",
   "execution_count": null,
   "metadata": {},
   "outputs": [],
   "source": [
    "alpha = pd.DataFrame(alpha)\n",
    "beta  = pd.DataFrame(beta)\n",
    "eps   = pd.DataFrame(eps)\n",
    "\n",
    "results = pd.concat([alpha, beta, eps], axis=1) \n",
    "\n",
    "var_name = ['Alpha', 'Beta', 'Residual']\n",
    "\n",
    "results.columns = var_name"
   ]
  },
  {
   "cell_type": "code",
   "execution_count": null,
   "metadata": {},
   "outputs": [],
   "source": [
    "## print estimates\n",
    "print(results)"
   ]
  }
 ],
 "metadata": {
  "kernelspec": {
   "display_name": "Python 3",
   "language": "python",
   "name": "python3"
  },
  "language_info": {
   "codemirror_mode": {
    "name": "ipython",
    "version": 3
   },
   "file_extension": ".py",
   "mimetype": "text/x-python",
   "name": "python",
   "nbconvert_exporter": "python",
   "pygments_lexer": "ipython3",
   "version": "3.7.6"
  }
 },
 "nbformat": 4,
 "nbformat_minor": 4
}
